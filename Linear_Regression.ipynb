{
  "nbformat": 4,
  "nbformat_minor": 0,
  "metadata": {
    "colab": {
      "provenance": [],
      "include_colab_link": true
    },
    "kernelspec": {
      "name": "python3",
      "display_name": "Python 3"
    },
    "language_info": {
      "name": "python"
    }
  },
  "cells": [
    {
      "cell_type": "markdown",
      "metadata": {
        "id": "view-in-github",
        "colab_type": "text"
      },
      "source": [
        "<a href=\"https://colab.research.google.com/github/diskmarster/CalculatorDLL-file-test/blob/master/Linear_Regression.ipynb\" target=\"_parent\"><img src=\"https://colab.research.google.com/assets/colab-badge.svg\" alt=\"Open In Colab\"/></a>"
      ]
    },
    {
      "cell_type": "markdown",
      "source": [
        "### Ensure that we use Python 3.7 or above:"
      ],
      "metadata": {
        "id": "cifewyhF9BAO"
      }
    },
    {
      "cell_type": "code",
      "execution_count": null,
      "metadata": {
        "id": "8KOQTcKX8bg2"
      },
      "outputs": [],
      "source": [
        "import sys\n",
        "\n",
        "assert sys.version_info >= (3, 7)"
      ]
    },
    {
      "cell_type": "markdown",
      "source": [
        "### Ensure that we use at least Scikit-Learn 1.0.1"
      ],
      "metadata": {
        "id": "MdUYfAR79gu8"
      }
    },
    {
      "cell_type": "code",
      "source": [
        "from packaging import version\n",
        "import sklearn\n",
        "\n",
        "assert version.parse(sklearn.__version__) >= version.parse(\"1.0.1\")"
      ],
      "metadata": {
        "id": "cEyMjLcU86Dw"
      },
      "execution_count": null,
      "outputs": []
    },
    {
      "cell_type": "markdown",
      "source": [
        "### Let us set up the fonts in mathplotlib"
      ],
      "metadata": {
        "id": "y2xAwFNX-Q0D"
      }
    },
    {
      "cell_type": "code",
      "source": [
        "import matplotlib.pyplot as plt\n",
        "\n",
        "plt.rc('font', size=12)\n",
        "plt.rc('axes', labelsize=14, titlesize=14)\n",
        "plt.rc('legend', fontsize=12)\n",
        "plt.rc('xtick', labelsize=10)\n",
        "plt.rc('ytick', labelsize=10)"
      ],
      "metadata": {
        "id": "gwi4DUJV-K1b"
      },
      "execution_count": null,
      "outputs": []
    },
    {
      "cell_type": "markdown",
      "source": [
        "### Import important libraries 'numpy' and 'pandas'"
      ],
      "metadata": {
        "id": "tvKLkp_dHHwf"
      }
    },
    {
      "cell_type": "code",
      "source": [
        "import numpy as np\n",
        "import pandas as pd"
      ],
      "metadata": {
        "id": "gK4Onnhy-6o8"
      },
      "execution_count": null,
      "outputs": []
    },
    {
      "cell_type": "markdown",
      "source": [
        "# Make reference to life satifaction data file"
      ],
      "metadata": {
        "id": "zZoc-LzQHYcB"
      }
    },
    {
      "cell_type": "code",
      "source": [
        "datafile = \"https://github.com/ageron/data/raw/main/lifesat/lifesat.csv\"\n",
        "\n",
        "##Try with this one later\n",
        "##datafile = \"https://raw.githubusercontent.com/jpandersen61/Machine-Learning/main/InjuredandkilledintrafikDK.csv\""
      ],
      "metadata": {
        "id": "1EB-X59l_zgg"
      },
      "execution_count": null,
      "outputs": []
    },
    {
      "cell_type": "markdown",
      "source": [
        "### Excercise(s):"
      ],
      "metadata": {
        "id": "GLUiNLM-HqXJ"
      }
    },
    {
      "cell_type": "markdown",
      "source": [
        "Try viewing this file in your internet browser"
      ],
      "metadata": {
        "id": "Xd2829tIAimY"
      }
    },
    {
      "cell_type": "markdown",
      "source": [
        "### Load the data file"
      ],
      "metadata": {
        "id": "yWx2mhWjIMq4"
      }
    },
    {
      "cell_type": "code",
      "source": [
        "lifesat = pd.read_csv(datafile)\n"
      ],
      "metadata": {
        "id": "9g1ETm1Y_Q2c",
        "outputId": "d423c910-453a-4a88-9099-938619373940",
        "colab": {
          "base_uri": "https://localhost:8080/",
          "height": 141
        }
      },
      "execution_count": 1,
      "outputs": [
        {
          "output_type": "error",
          "ename": "NameError",
          "evalue": "name 'pd' is not defined",
          "traceback": [
            "\u001b[0;31m---------------------------------------------------------------------------\u001b[0m",
            "\u001b[0;31mNameError\u001b[0m                                 Traceback (most recent call last)",
            "\u001b[0;32m<ipython-input-1-c6794ab8ed88>\u001b[0m in \u001b[0;36m<cell line: 0>\u001b[0;34m()\u001b[0m\n\u001b[0;32m----> 1\u001b[0;31m \u001b[0mlifesat\u001b[0m \u001b[0;34m=\u001b[0m \u001b[0mpd\u001b[0m\u001b[0;34m.\u001b[0m\u001b[0mread_csv\u001b[0m\u001b[0;34m(\u001b[0m\u001b[0mdatafile\u001b[0m\u001b[0;34m)\u001b[0m\u001b[0;34m\u001b[0m\u001b[0;34m\u001b[0m\u001b[0m\n\u001b[0m",
            "\u001b[0;31mNameError\u001b[0m: name 'pd' is not defined"
          ]
        }
      ]
    },
    {
      "cell_type": "markdown",
      "source": [
        "### Excercise(s)"
      ],
      "metadata": {
        "id": "JBJfOo9HFmhK"
      }
    },
    {
      "cell_type": "markdown",
      "source": [
        "1. Make a new code cell below and evaluate 'lifesat'"
      ],
      "metadata": {
        "id": "IuZ12x0WF6QK"
      }
    },
    {
      "cell_type": "markdown",
      "source": [
        "2. Get some information about the kind of data structure, that life satisfaction data is store in. Usefuk to know when using the data afterwards in Python: Make a new code cell below and evaluate 'type(lifesat)'"
      ],
      "metadata": {
        "id": "aDwhNpA3Cyp0"
      }
    },
    {
      "cell_type": "markdown",
      "source": [
        "### Extract the learning set 'X' and its labels 'y'"
      ],
      "metadata": {
        "id": "cj4YKu6oFI3Q"
      }
    },
    {
      "cell_type": "code",
      "source": [
        "X = lifesat[[\"GDP per capita (USD)\"]].values\n",
        "y = lifesat[[\"Life satisfaction\"]].values\n",
        "\n"
      ],
      "metadata": {
        "id": "NtovVwne_pM7"
      },
      "execution_count": null,
      "outputs": []
    },
    {
      "cell_type": "markdown",
      "source": [
        "### Exercises:"
      ],
      "metadata": {
        "id": "HSYpesjdEwCn"
      }
    },
    {
      "cell_type": "markdown",
      "source": [
        "Make a new code cell below and evaluate 'X'\n",
        "\n",
        "\n",
        "\n"
      ],
      "metadata": {
        "id": "pcR9Ia3VDmWw"
      }
    },
    {
      "cell_type": "markdown",
      "source": [
        "Make a new code cell below and evaluate 'y'"
      ],
      "metadata": {
        "id": "vDQPFB9AEMMR"
      }
    },
    {
      "cell_type": "markdown",
      "source": [
        "### Let us plot the life satisfaction data and introduce a model"
      ],
      "metadata": {
        "id": "WGVG7gP1EcIx"
      }
    },
    {
      "cell_type": "code",
      "source": [
        "lifesat.plot(kind='scatter', grid=True,\n",
        "             x=\"GDP per capita (USD)\", y=\"Life satisfaction\")\n",
        "plt.axis([23_500, 62_500, 4, 9])\n",
        "plt.show()"
      ],
      "metadata": {
        "colab": {
          "base_uri": "https://localhost:8080/",
          "height": 460
        },
        "id": "uuQq8nUOERM8",
        "outputId": "04d3bb8a-9e48-466a-d424-f25a426bbd2b"
      },
      "execution_count": null,
      "outputs": [
        {
          "output_type": "display_data",
          "data": {
            "text/plain": [
              "<Figure size 640x480 with 1 Axes>"
            ],
            "image/png": "[encoded data removed]"
          },
          "metadata": {}
        }
      ]
    },
    {
      "cell_type": "markdown",
      "source": [
        "### Excercise(s):"
      ],
      "metadata": {
        "id": "JIXI1IL6JvVm"
      }
    },
    {
      "cell_type": "markdown",
      "source": [
        "Define various 't0' and 't1' (thetas) and observe how it affects our model"
      ],
      "metadata": {
        "id": "EA7d6lEBJ4OK"
      }
    },
    {
      "cell_type": "code",
      "source": [
        "import sys\n",
        "\n",
        "assert sys.version_info >= (3, 7)\n",
        "from packaging import version\n",
        "import sklearn\n",
        "\n",
        "assert version.parse(sklearn.__version__) >= version.parse(\"1.0.1\")\n",
        "\n",
        "import matplotlib.pyplot as plt\n",
        "\n",
        "plt.rc('font', size=12)\n",
        "plt.rc('axes', labelsize=14, titlesize=14)\n",
        "plt.rc('legend', fontsize=12)\n",
        "plt.rc('xtick', labelsize=10)\n",
        "plt.rc('ytick', labelsize=10)\n",
        "\n",
        "import numpy as np\n",
        "import pandas as pd\n",
        "\n",
        "\n",
        "datafile = \"https://github.com/ageron/data/raw/main/lifesat/lifesat.csv\"\n",
        "lifesat = pd.read_csv(datafile)\n",
        "\n",
        "\n",
        "t0, t1 = 3.75, 6.78e-05\n",
        "\n",
        "from sklearn import linear_model\n",
        "min_gdp = 23_500\n",
        "max_gdp = 62_500\n",
        "min_life_sat = 4\n",
        "max_life_sat = 9\n",
        "\n",
        "lifesat.plot(kind='scatter', figsize=(5, 3), grid=True,\n",
        "                   x=\"GDP per capita (USD)\", y=\"Life satisfaction\")\n",
        "\n",
        "X = np.linspace(min_gdp, max_gdp, 1000)\n",
        "plt.plot(X, t0 + t1 * X, \"b\")\n",
        "\n",
        "plt.text(max_gdp - 20_000, min_life_sat + 1.9,\n",
        "         fr\"$\\theta_0 = {t0:.2f}$\", color=\"b\")\n",
        "plt.text(max_gdp - 20_000, min_life_sat + 1.3,\n",
        "         fr\"$\\theta_1 = {t1 * 1e5:.2f} \\times 10^{{-5}}$\", color=\"b\")\n",
        "\n",
        "plt.axis([min_gdp, max_gdp, min_life_sat, max_life_sat])\n",
        "\n",
        "plt.show()"
      ],
      "metadata": {
        "colab": {
          "base_uri": "https://localhost:8080/",
          "height": 321
        },
        "id": "HXN6ixwFIzii",
        "outputId": "ab356882-8bc7-4498-f4ad-4ddfbd148768"
      },
      "execution_count": 7,
      "outputs": [
        {
          "output_type": "display_data",
          "data": {
            "text/plain": [
              "<Figure size 500x300 with 1 Axes>"
            ],
            "image/png": "[encoded data removed]"
          },
          "metadata": {}
        }
      ]
    },
    {
      "cell_type": "markdown",
      "source": [
        "### Establish the model"
      ],
      "metadata": {
        "id": "J0iRLACuXH79"
      }
    },
    {
      "cell_type": "code",
      "source": [
        "from sklearn import linear_model\n",
        "\n",
        "X_features = lifesat[[\"GDP per capita (USD)\"]]\n",
        "y_labels = lifesat[[\"Life satisfaction\"]]\n",
        "\n",
        "lin1 = linear_model.LinearRegression()\n",
        "lin1.fit(X_features, y_labels)\n",
        "\n",
        "t0, t1 = lin1.intercept_[0], lin1.coef_[0][0]\n",
        "print(f\"θ0={t0:.2f}, θ1={t1:.2e}\")"
      ],
      "metadata": {
        "colab": {
          "base_uri": "https://localhost:8080/"
        },
        "id": "BylN6risXh1C",
        "outputId": "48a7f404-5fe8-4a0b-f6ff-15d05a1a626f"
      },
      "execution_count": null,
      "outputs": [
        {
          "output_type": "stream",
          "name": "stdout",
          "text": [
            "θ0=3.75, θ1=6.78e-05\n"
          ]
        }
      ]
    },
    {
      "cell_type": "code",
      "source": [
        "X_pred = 40000\n",
        "y_pred = lin1.predict([[X_pred]])[0,0]"
      ],
      "metadata": {
        "colab": {
          "base_uri": "https://localhost:8080/"
        },
        "id": "i7nan8QdT8ZO",
        "outputId": "0148edcc-0485-4764-af08-e338dcda899c"
      },
      "execution_count": null,
      "outputs": [
        {
          "output_type": "stream",
          "name": "stderr",
          "text": [
            "/usr/local/lib/python3.10/dist-packages/sklearn/base.py:465: UserWarning: X does not have valid feature names, but LinearRegression was fitted with feature names\n",
            "  warnings.warn(\n"
          ]
        }
      ]
    },
    {
      "cell_type": "code",
      "source": [
        "y_pred"
      ],
      "metadata": {
        "colab": {
          "base_uri": "https://localhost:8080/"
        },
        "id": "xgXDykJWUgcU",
        "outputId": "4bc78b09-d30e-46b3-894b-11dd4a4919b5"
      },
      "execution_count": null,
      "outputs": [
        {
          "output_type": "execute_result",
          "data": {
            "text/plain": [
              "6.4606093051133975"
            ]
          },
          "metadata": {},
          "execution_count": 34
        }
      ]
    },
    {
      "cell_type": "code",
      "source": [],
      "metadata": {
        "id": "KRCZu6w0Ub-Q"
      },
      "execution_count": null,
      "outputs": []
    },
    {
      "cell_type": "code",
      "source": [],
      "metadata": {
        "id": "FiR8qLxZUSQ7"
      },
      "execution_count": null,
      "outputs": []
    },
    {
      "cell_type": "code",
      "source": [
        "from sklearn import linear_model\n",
        "min_gdp = 23_500\n",
        "max_gdp = 62_500\n",
        "min_life_sat = 4\n",
        "max_life_sat = 9\n",
        "\n",
        "lifesat.plot(kind='scatter', figsize=(5, 3), grid=True,\n",
        "                   x=\"GDP per capita (USD)\", y=\"Life satisfaction\")\n",
        "\n",
        "X = np.linspace(min_gdp, max_gdp, 1000)\n",
        "plt.plot(X, t0 + t1 * X, \"b\")\n",
        "\n",
        "plt.text(max_gdp - 20_000, min_life_sat + 1.9,\n",
        "         fr\"$\\theta_0 = {t0:.2f}$\", color=\"b\")\n",
        "plt.text(max_gdp - 20_000, min_life_sat + 1.3,\n",
        "         fr\"$\\theta_1 = {t1 * 1e5:.2f} \\times 10^{{-5}}$\", color=\"b\")\n",
        "\n",
        "plt.axis([min_gdp, max_gdp, min_life_sat, max_life_sat])\n",
        "\n",
        "plt.plot([X_pred, X_pred],\n",
        "         [min_life_sat, y_pred], \"r--\")\n",
        "plt.plot(X_pred, y_pred, \"ro\")\n",
        "\n",
        "plt.show()"
      ],
      "metadata": {
        "colab": {
          "base_uri": "https://localhost:8080/",
          "height": 321
        },
        "id": "J2vqshOxZMXt",
        "outputId": "9e07853b-2057-49d9-e8e3-45d6dd076c92"
      },
      "execution_count": null,
      "outputs": [
        {
          "output_type": "display_data",
          "data": {
            "text/plain": [
              "<Figure size 500x300 with 1 Axes>"
            ],
            "image/png": "[encoded data removed]"
          },
          "metadata": {}
        }
      ]
    },
    {
      "cell_type": "markdown",
      "source": [
        "### Excercise(s):\n"
      ],
      "metadata": {
        "id": "mrttlJ7yPI7m"
      }
    },
    {
      "cell_type": "markdown",
      "source": [
        "1. Try with another dataset https://raw.githubusercontent.com/jpandersen61/Machine-Learning/main/InjuredandkilledintrafikDK.csv"
      ],
      "metadata": {
        "id": "rvGBeixgPRTH"
      }
    },
    {
      "cell_type": "code",
      "source": [
        "import sys\n",
        "\n",
        "assert sys.version_info >= (3, 7)\n",
        "from packaging import version\n",
        "import sklearn\n",
        "\n",
        "assert version.parse(sklearn.__version__) >= version.parse(\"1.0.1\")\n",
        "\n",
        "import matplotlib.pyplot as plt\n",
        "\n",
        "plt.rc('font', size=12)\n",
        "plt.rc('axes', labelsize=14, titlesize=14)\n",
        "plt.rc('legend', fontsize=12)\n",
        "plt.rc('xtick', labelsize=10)\n",
        "plt.rc('ytick', labelsize=10)\n",
        "\n",
        "import numpy as np\n",
        "import pandas as pd\n",
        "\n",
        "\n",
        "datafile = \"https://raw.githubusercontent.com/jpandersen61/Machine-Learning/main/InjuredandkilledintrafikDK.csv\"\n",
        "lifesat = pd.read_csv(datafile)\n",
        "\n",
        "\n",
        "t0, t1 = 3.75, 6.78e-05\n",
        "\n",
        "from sklearn import linear_model\n",
        "min_gdp = 23_500\n",
        "max_gdp = 62_500\n",
        "min_life_sat = 4\n",
        "max_life_sat = 9\n",
        "\n",
        "lifesat.plot(kind='scatter', figsize=(5, 3), grid=True,\n",
        "                   x=\"GDP per capita (USD)\", y=\"Life satisfaction\")\n",
        "\n",
        "X = np.linspace(min_gdp, max_gdp, 1000)\n",
        "plt.plot(X, t0 + t1 * X, \"b\")\n",
        "\n",
        "plt.text(max_gdp - 20_000, min_life_sat + 1.9,\n",
        "         fr\"$\\theta_0 = {t0:.2f}$\", color=\"b\")\n",
        "plt.text(max_gdp - 20_000, min_life_sat + 1.3,\n",
        "         fr\"$\\theta_1 = {t1 * 1e5:.2f} \\times 10^{{-5}}$\", color=\"b\")\n",
        "\n",
        "plt.axis([min_gdp, max_gdp, min_life_sat, max_life_sat])\n",
        "\n",
        "plt.show()"
      ],
      "metadata": {
        "id": "O4NPUCygPYr3",
        "outputId": "814a671d-6e00-4502-e2ea-eaa347fb4272",
        "colab": {
          "base_uri": "https://localhost:8080/",
          "height": 827
        }
      },
      "execution_count": 8,
      "outputs": [
        {
          "output_type": "error",
          "ename": "KeyError",
          "evalue": "'GDP per capita (USD)'",
          "traceback": [
            "\u001b[0;31m---------------------------------------------------------------------------\u001b[0m",
            "\u001b[0;31mKeyError\u001b[0m                                  Traceback (most recent call last)",
            "\u001b[0;32m/usr/local/lib/python3.11/dist-packages/pandas/core/indexes/base.py\u001b[0m in \u001b[0;36mget_loc\u001b[0;34m(self, key)\u001b[0m\n\u001b[1;32m   3804\u001b[0m         \u001b[0;32mtry\u001b[0m\u001b[0;34m:\u001b[0m\u001b[0;34m\u001b[0m\u001b[0;34m\u001b[0m\u001b[0m\n\u001b[0;32m-> 3805\u001b[0;31m             \u001b[0;32mreturn\u001b[0m \u001b[0mself\u001b[0m\u001b[0;34m.\u001b[0m\u001b[0m_engine\u001b[0m\u001b[0;34m.\u001b[0m\u001b[0mget_loc\u001b[0m\u001b[0;34m(\u001b[0m\u001b[0mcasted_key\u001b[0m\u001b[0;34m)\u001b[0m\u001b[0;34m\u001b[0m\u001b[0;34m\u001b[0m\u001b[0m\n\u001b[0m\u001b[1;32m   3806\u001b[0m         \u001b[0;32mexcept\u001b[0m \u001b[0mKeyError\u001b[0m \u001b[0;32mas\u001b[0m \u001b[0merr\u001b[0m\u001b[0;34m:\u001b[0m\u001b[0;34m\u001b[0m\u001b[0;34m\u001b[0m\u001b[0m\n",
            "\u001b[0;32mindex.pyx\u001b[0m in \u001b[0;36mpandas._libs.index.IndexEngine.get_loc\u001b[0;34m()\u001b[0m\n",
            "\u001b[0;32mindex.pyx\u001b[0m in \u001b[0;36mpandas._libs.index.IndexEngine.get_loc\u001b[0;34m()\u001b[0m\n",
            "\u001b[0;32mpandas/_libs/hashtable_class_helper.pxi\u001b[0m in \u001b[0;36mpandas._libs.hashtable.PyObjectHashTable.get_item\u001b[0;34m()\u001b[0m\n",
            "\u001b[0;32mpandas/_libs/hashtable_class_helper.pxi\u001b[0m in \u001b[0;36mpandas._libs.hashtable.PyObjectHashTable.get_item\u001b[0;34m()\u001b[0m\n",
            "\u001b[0;31mKeyError\u001b[0m: 'GDP per capita (USD)'",
            "\nThe above exception was the direct cause of the following exception:\n",
            "\u001b[0;31mKeyError\u001b[0m                                  Traceback (most recent call last)",
            "\u001b[0;32m<ipython-input-8-5f934dc46f06>\u001b[0m in \u001b[0;36m<cell line: 0>\u001b[0;34m()\u001b[0m\n\u001b[1;32m     31\u001b[0m \u001b[0mmax_life_sat\u001b[0m \u001b[0;34m=\u001b[0m \u001b[0;36m9\u001b[0m\u001b[0;34m\u001b[0m\u001b[0;34m\u001b[0m\u001b[0m\n\u001b[1;32m     32\u001b[0m \u001b[0;34m\u001b[0m\u001b[0m\n\u001b[0;32m---> 33\u001b[0;31m lifesat.plot(kind='scatter', figsize=(5, 3), grid=True,\n\u001b[0m\u001b[1;32m     34\u001b[0m                    x=\"GDP per capita (USD)\", y=\"Life satisfaction\")\n\u001b[1;32m     35\u001b[0m \u001b[0;34m\u001b[0m\u001b[0m\n",
            "\u001b[0;32m/usr/local/lib/python3.11/dist-packages/pandas/plotting/_core.py\u001b[0m in \u001b[0;36m__call__\u001b[0;34m(self, *args, **kwargs)\u001b[0m\n\u001b[1;32m    973\u001b[0m         \u001b[0;32mif\u001b[0m \u001b[0mkind\u001b[0m \u001b[0;32min\u001b[0m \u001b[0mself\u001b[0m\u001b[0;34m.\u001b[0m\u001b[0m_dataframe_kinds\u001b[0m\u001b[0;34m:\u001b[0m\u001b[0;34m\u001b[0m\u001b[0;34m\u001b[0m\u001b[0m\n\u001b[1;32m    974\u001b[0m             \u001b[0;32mif\u001b[0m \u001b[0misinstance\u001b[0m\u001b[0;34m(\u001b[0m\u001b[0mdata\u001b[0m\u001b[0;34m,\u001b[0m \u001b[0mABCDataFrame\u001b[0m\u001b[0;34m)\u001b[0m\u001b[0;34m:\u001b[0m\u001b[0;34m\u001b[0m\u001b[0;34m\u001b[0m\u001b[0m\n\u001b[0;32m--> 975\u001b[0;31m                 \u001b[0;32mreturn\u001b[0m \u001b[0mplot_backend\u001b[0m\u001b[0;34m.\u001b[0m\u001b[0mplot\u001b[0m\u001b[0;34m(\u001b[0m\u001b[0mdata\u001b[0m\u001b[0;34m,\u001b[0m \u001b[0mx\u001b[0m\u001b[0;34m=\u001b[0m\u001b[0mx\u001b[0m\u001b[0;34m,\u001b[0m \u001b[0my\u001b[0m\u001b[0;34m=\u001b[0m\u001b[0my\u001b[0m\u001b[0;34m,\u001b[0m \u001b[0mkind\u001b[0m\u001b[0;34m=\u001b[0m\u001b[0mkind\u001b[0m\u001b[0;34m,\u001b[0m \u001b[0;34m**\u001b[0m\u001b[0mkwargs\u001b[0m\u001b[0;34m)\u001b[0m\u001b[0;34m\u001b[0m\u001b[0;34m\u001b[0m\u001b[0m\n\u001b[0m\u001b[1;32m    976\u001b[0m             \u001b[0;32melse\u001b[0m\u001b[0;34m:\u001b[0m\u001b[0;34m\u001b[0m\u001b[0;34m\u001b[0m\u001b[0m\n\u001b[1;32m    977\u001b[0m                 \u001b[0;32mraise\u001b[0m \u001b[0mValueError\u001b[0m\u001b[0;34m(\u001b[0m\u001b[0;34mf\"plot kind {kind} can only be used for data frames\"\u001b[0m\u001b[0;34m)\u001b[0m\u001b[0;34m\u001b[0m\u001b[0;34m\u001b[0m\u001b[0m\n",
            "\u001b[0;32m/usr/local/lib/python3.11/dist-packages/pandas/plotting/_matplotlib/__init__.py\u001b[0m in \u001b[0;36mplot\u001b[0;34m(data, kind, **kwargs)\u001b[0m\n\u001b[1;32m     69\u001b[0m             \u001b[0mkwargs\u001b[0m\u001b[0;34m[\u001b[0m\u001b[0;34m\"ax\"\u001b[0m\u001b[0;34m]\u001b[0m \u001b[0;34m=\u001b[0m \u001b[0mgetattr\u001b[0m\u001b[0;34m(\u001b[0m\u001b[0max\u001b[0m\u001b[0;34m,\u001b[0m \u001b[0;34m\"left_ax\"\u001b[0m\u001b[0;34m,\u001b[0m \u001b[0max\u001b[0m\u001b[0;34m)\u001b[0m\u001b[0;34m\u001b[0m\u001b[0;34m\u001b[0m\u001b[0m\n\u001b[1;32m     70\u001b[0m     \u001b[0mplot_obj\u001b[0m \u001b[0;34m=\u001b[0m \u001b[0mPLOT_CLASSES\u001b[0m\u001b[0;34m[\u001b[0m\u001b[0mkind\u001b[0m\u001b[0;34m]\u001b[0m\u001b[0;34m(\u001b[0m\u001b[0mdata\u001b[0m\u001b[0;34m,\u001b[0m \u001b[0;34m**\u001b[0m\u001b[0mkwargs\u001b[0m\u001b[0;34m)\u001b[0m\u001b[0;34m\u001b[0m\u001b[0;34m\u001b[0m\u001b[0m\n\u001b[0;32m---> 71\u001b[0;31m     \u001b[0mplot_obj\u001b[0m\u001b[0;34m.\u001b[0m\u001b[0mgenerate\u001b[0m\u001b[0;34m(\u001b[0m\u001b[0;34m)\u001b[0m\u001b[0;34m\u001b[0m\u001b[0;34m\u001b[0m\u001b[0m\n\u001b[0m\u001b[1;32m     72\u001b[0m     \u001b[0mplot_obj\u001b[0m\u001b[0;34m.\u001b[0m\u001b[0mdraw\u001b[0m\u001b[0;34m(\u001b[0m\u001b[0;34m)\u001b[0m\u001b[0;34m\u001b[0m\u001b[0;34m\u001b[0m\u001b[0m\n\u001b[1;32m     73\u001b[0m     \u001b[0;32mreturn\u001b[0m \u001b[0mplot_obj\u001b[0m\u001b[0;34m.\u001b[0m\u001b[0mresult\u001b[0m\u001b[0;34m\u001b[0m\u001b[0;34m\u001b[0m\u001b[0m\n",
            "\u001b[0;32m/usr/local/lib/python3.11/dist-packages/pandas/plotting/_matplotlib/core.py\u001b[0m in \u001b[0;36mgenerate\u001b[0;34m(self)\u001b[0m\n\u001b[1;32m    499\u001b[0m         \u001b[0mself\u001b[0m\u001b[0;34m.\u001b[0m\u001b[0m_compute_plot_data\u001b[0m\u001b[0;34m(\u001b[0m\u001b[0;34m)\u001b[0m\u001b[0;34m\u001b[0m\u001b[0;34m\u001b[0m\u001b[0m\n\u001b[1;32m    500\u001b[0m         \u001b[0mfig\u001b[0m \u001b[0;34m=\u001b[0m \u001b[0mself\u001b[0m\u001b[0;34m.\u001b[0m\u001b[0mfig\u001b[0m\u001b[0;34m\u001b[0m\u001b[0;34m\u001b[0m\u001b[0m\n\u001b[0;32m--> 501\u001b[0;31m         \u001b[0mself\u001b[0m\u001b[0;34m.\u001b[0m\u001b[0m_make_plot\u001b[0m\u001b[0;34m(\u001b[0m\u001b[0mfig\u001b[0m\u001b[0;34m)\u001b[0m\u001b[0;34m\u001b[0m\u001b[0;34m\u001b[0m\u001b[0m\n\u001b[0m\u001b[1;32m    502\u001b[0m         \u001b[0mself\u001b[0m\u001b[0;34m.\u001b[0m\u001b[0m_add_table\u001b[0m\u001b[0;34m(\u001b[0m\u001b[0;34m)\u001b[0m\u001b[0;34m\u001b[0m\u001b[0;34m\u001b[0m\u001b[0m\n\u001b[1;32m    503\u001b[0m         \u001b[0mself\u001b[0m\u001b[0;34m.\u001b[0m\u001b[0m_make_legend\u001b[0m\u001b[0;34m(\u001b[0m\u001b[0;34m)\u001b[0m\u001b[0;34m\u001b[0m\u001b[0;34m\u001b[0m\u001b[0m\n",
            "\u001b[0;32m/usr/local/lib/python3.11/dist-packages/pandas/plotting/_matplotlib/core.py\u001b[0m in \u001b[0;36m_make_plot\u001b[0;34m(self, fig)\u001b[0m\n\u001b[1;32m   1344\u001b[0m             \u001b[0mlabel\u001b[0m \u001b[0;34m=\u001b[0m \u001b[0;32mNone\u001b[0m\u001b[0;34m\u001b[0m\u001b[0;34m\u001b[0m\u001b[0m\n\u001b[1;32m   1345\u001b[0m         scatter = ax.scatter(\n\u001b[0;32m-> 1346\u001b[0;31m             \u001b[0mdata\u001b[0m\u001b[0;34m[\u001b[0m\u001b[0mx\u001b[0m\u001b[0;34m]\u001b[0m\u001b[0;34m.\u001b[0m\u001b[0mvalues\u001b[0m\u001b[0;34m,\u001b[0m\u001b[0;34m\u001b[0m\u001b[0;34m\u001b[0m\u001b[0m\n\u001b[0m\u001b[1;32m   1347\u001b[0m             \u001b[0mdata\u001b[0m\u001b[0;34m[\u001b[0m\u001b[0my\u001b[0m\u001b[0;34m]\u001b[0m\u001b[0;34m.\u001b[0m\u001b[0mvalues\u001b[0m\u001b[0;34m,\u001b[0m\u001b[0;34m\u001b[0m\u001b[0;34m\u001b[0m\u001b[0m\n\u001b[1;32m   1348\u001b[0m             \u001b[0mc\u001b[0m\u001b[0;34m=\u001b[0m\u001b[0mc_values\u001b[0m\u001b[0;34m,\u001b[0m\u001b[0;34m\u001b[0m\u001b[0;34m\u001b[0m\u001b[0m\n",
            "\u001b[0;32m/usr/local/lib/python3.11/dist-packages/pandas/core/frame.py\u001b[0m in \u001b[0;36m__getitem__\u001b[0;34m(self, key)\u001b[0m\n\u001b[1;32m   4100\u001b[0m             \u001b[0;32mif\u001b[0m \u001b[0mself\u001b[0m\u001b[0;34m.\u001b[0m\u001b[0mcolumns\u001b[0m\u001b[0;34m.\u001b[0m\u001b[0mnlevels\u001b[0m \u001b[0;34m>\u001b[0m \u001b[0;36m1\u001b[0m\u001b[0;34m:\u001b[0m\u001b[0;34m\u001b[0m\u001b[0;34m\u001b[0m\u001b[0m\n\u001b[1;32m   4101\u001b[0m                 \u001b[0;32mreturn\u001b[0m \u001b[0mself\u001b[0m\u001b[0;34m.\u001b[0m\u001b[0m_getitem_multilevel\u001b[0m\u001b[0;34m(\u001b[0m\u001b[0mkey\u001b[0m\u001b[0;34m)\u001b[0m\u001b[0;34m\u001b[0m\u001b[0;34m\u001b[0m\u001b[0m\n\u001b[0;32m-> 4102\u001b[0;31m             \u001b[0mindexer\u001b[0m \u001b[0;34m=\u001b[0m \u001b[0mself\u001b[0m\u001b[0;34m.\u001b[0m\u001b[0mcolumns\u001b[0m\u001b[0;34m.\u001b[0m\u001b[0mget_loc\u001b[0m\u001b[0;34m(\u001b[0m\u001b[0mkey\u001b[0m\u001b[0;34m)\u001b[0m\u001b[0;34m\u001b[0m\u001b[0;34m\u001b[0m\u001b[0m\n\u001b[0m\u001b[1;32m   4103\u001b[0m             \u001b[0;32mif\u001b[0m \u001b[0mis_integer\u001b[0m\u001b[0;34m(\u001b[0m\u001b[0mindexer\u001b[0m\u001b[0;34m)\u001b[0m\u001b[0;34m:\u001b[0m\u001b[0;34m\u001b[0m\u001b[0;34m\u001b[0m\u001b[0m\n\u001b[1;32m   4104\u001b[0m                 \u001b[0mindexer\u001b[0m \u001b[0;34m=\u001b[0m \u001b[0;34m[\u001b[0m\u001b[0mindexer\u001b[0m\u001b[0;34m]\u001b[0m\u001b[0;34m\u001b[0m\u001b[0;34m\u001b[0m\u001b[0m\n",
            "\u001b[0;32m/usr/local/lib/python3.11/dist-packages/pandas/core/indexes/base.py\u001b[0m in \u001b[0;36mget_loc\u001b[0;34m(self, key)\u001b[0m\n\u001b[1;32m   3810\u001b[0m             ):\n\u001b[1;32m   3811\u001b[0m                 \u001b[0;32mraise\u001b[0m \u001b[0mInvalidIndexError\u001b[0m\u001b[0;34m(\u001b[0m\u001b[0mkey\u001b[0m\u001b[0;34m)\u001b[0m\u001b[0;34m\u001b[0m\u001b[0;34m\u001b[0m\u001b[0m\n\u001b[0;32m-> 3812\u001b[0;31m             \u001b[0;32mraise\u001b[0m \u001b[0mKeyError\u001b[0m\u001b[0;34m(\u001b[0m\u001b[0mkey\u001b[0m\u001b[0;34m)\u001b[0m \u001b[0;32mfrom\u001b[0m \u001b[0merr\u001b[0m\u001b[0;34m\u001b[0m\u001b[0;34m\u001b[0m\u001b[0m\n\u001b[0m\u001b[1;32m   3813\u001b[0m         \u001b[0;32mexcept\u001b[0m \u001b[0mTypeError\u001b[0m\u001b[0;34m:\u001b[0m\u001b[0;34m\u001b[0m\u001b[0;34m\u001b[0m\u001b[0m\n\u001b[1;32m   3814\u001b[0m             \u001b[0;31m# If we have a listlike key, _check_indexing_error will raise\u001b[0m\u001b[0;34m\u001b[0m\u001b[0;34m\u001b[0m\u001b[0m\n",
            "\u001b[0;31mKeyError\u001b[0m: 'GDP per capita (USD)'"
          ]
        },
        {
          "output_type": "display_data",
          "data": {
            "text/plain": [
              "<Figure size 500x300 with 1 Axes>"
            ],
            "image/png": "[encoded data removed]"
          },
          "metadata": {}
        }
      ]
    },
    {
      "cell_type": "markdown",
      "source": [
        "### Questions"
      ],
      "metadata": {
        "id": "xpgWXfOyA23y"
      }
    },
    {
      "cell_type": "markdown",
      "source": [
        "1. How would you define Machine Learning?\n"
      ],
      "metadata": {
        "id": "rOIfHyJcA8C8"
      }
    },
    {
      "cell_type": "markdown",
      "source": [
        "I would define machine as a way to solve problems in a very effecient manner. It is also way of solving issues/problems without hardcoding.. By using algorithms from data we can identify patterns and make predictions that we can improve over time with more data."
      ],
      "metadata": {
        "id": "bq3i-aI1BH9Q"
      }
    },
    {
      "cell_type": "markdown",
      "source": [
        "2. Can you name four types of problems where it shines?"
      ],
      "metadata": {
        "id": "wMA1G2PPBwpU"
      }
    },
    {
      "cell_type": "markdown",
      "source": [
        "Image Recognition/Classification:\n",
        "\n",
        "Machine learning is incredibly powerful at recognizing and classifying images\n",
        "\n",
        "Natural Language Processing:\n",
        "\n",
        "NLP involves enabling computers to understand, interpret, and generate human language\n",
        "\n",
        "Predictive Analytics/Forecasting:\n",
        "\n",
        "Machine learning algorithms can analyze historical data to make predictions about future events\n",
        "\n",
        "Recommendation Systems:\n",
        "\n",
        "Machine learning is the backbone of recommendation systems that suggest products, services, or content to users\n"
      ],
      "metadata": {
        "id": "QAcDslfMBtVj"
      }
    },
    {
      "cell_type": "markdown",
      "source": [
        "3. What is a labeled training set?"
      ],
      "metadata": {
        "id": "i0M6EMx8B71g"
      }
    },
    {
      "cell_type": "markdown",
      "source": [
        "A labeled training set is where you have data points consisting of lets say: Emails, and for theese emails you have \"labels\" in this case, \"Spam\", \"Not Spam\". then by seeing theese examples we can start training a model to identify patterns and relationships between the data and our desired outcome."
      ],
      "metadata": {
        "id": "fipL2K_FBtin"
      }
    },
    {
      "cell_type": "markdown",
      "source": [
        "4. What are the two most common supervised tasks?"
      ],
      "metadata": {
        "id": "43FAK9O-CE8K"
      }
    },
    {
      "cell_type": "markdown",
      "source": [
        "Regression:\n",
        "\n",
        "To predict a continuous value. This means the output can take on any value within a range.\n",
        "\n",
        "Classification:\n",
        "\n",
        "To predict a categorical or discrete value. This means the output belongs to a specific category or class."
      ],
      "metadata": {
        "id": "JjakH8_HBtmV"
      }
    },
    {
      "cell_type": "markdown",
      "source": [
        "5. Can you name four common unsupervised tasks?"
      ],
      "metadata": {
        "id": "6_5YsjSzCJes"
      }
    },
    {
      "cell_type": "markdown",
      "source": [
        "Write your answer here"
      ],
      "metadata": {
        "id": "aPFI1nvxBtp4"
      }
    },
    {
      "cell_type": "markdown",
      "source": [
        "6. What type of Machine Learning algorithm would you use to allow\n",
        "a robot to walk in various unknown terrains?\n"
      ],
      "metadata": {
        "id": "DwIRcR9YCNb5"
      }
    },
    {
      "cell_type": "markdown",
      "source": [
        "Write your answer here"
      ],
      "metadata": {
        "id": "E8SE6UvrBtuJ"
      }
    },
    {
      "cell_type": "markdown",
      "source": [
        "7. What type of algorithm would you use to segment your customers\n",
        "into multiple groups?"
      ],
      "metadata": {
        "id": "ZflRQBbbCRwX"
      }
    },
    {
      "cell_type": "markdown",
      "source": [
        "Write your answer here"
      ],
      "metadata": {
        "id": "7QcbHPkBBtwI"
      }
    },
    {
      "cell_type": "markdown",
      "source": [
        "8. Would you frame the problem of spam detection as a supervised\n",
        "learning problem or an unsupervised learning problem?"
      ],
      "metadata": {
        "id": "X0fKgGXsLq6o"
      }
    },
    {
      "cell_type": "markdown",
      "source": [
        "Write your answer here"
      ],
      "metadata": {
        "id": "nLnPVahlBty_"
      }
    },
    {
      "cell_type": "markdown",
      "source": [
        "9. What is an online learning system?\n"
      ],
      "metadata": {
        "id": "n7CHmnsdCeY3"
      }
    },
    {
      "cell_type": "markdown",
      "source": [
        "Write your answer here"
      ],
      "metadata": {
        "id": "0YRkRS_7Bt2I"
      }
    },
    {
      "cell_type": "markdown",
      "source": [
        "10. What is out-of-core learning?"
      ],
      "metadata": {
        "id": "UKkgQ_veCsN_"
      }
    },
    {
      "cell_type": "markdown",
      "source": [
        "Write your answer here"
      ],
      "metadata": {
        "id": "0raVrt27Bt5U"
      }
    },
    {
      "cell_type": "markdown",
      "source": [
        "11. What type of learning algorithm relies on a similarity measure to\n",
        "make predictions?"
      ],
      "metadata": {
        "id": "alMcqdhaCt8m"
      }
    },
    {
      "cell_type": "markdown",
      "source": [
        "Write your answer here"
      ],
      "metadata": {
        "id": "NzHnn7Q5Bt8C"
      }
    },
    {
      "cell_type": "markdown",
      "source": [
        "12. What is the difference between a model parameter and a learning\n",
        "algorithm’s hyperparameter?"
      ],
      "metadata": {
        "id": "lpvdcsj2CznS"
      }
    },
    {
      "cell_type": "markdown",
      "source": [
        "Write your answer here"
      ],
      "metadata": {
        "id": "22JFh-dABt_J"
      }
    },
    {
      "cell_type": "markdown",
      "source": [
        "13. What do model-based learning algorithms search for? What is the\n",
        "most common strategy they use to succeed? How do they make\n",
        "predictions?"
      ],
      "metadata": {
        "id": "fwVjj-WkC4U5"
      }
    },
    {
      "cell_type": "markdown",
      "source": [
        "Write your answer here"
      ],
      "metadata": {
        "id": "c8Q85u6RBuCH"
      }
    },
    {
      "cell_type": "markdown",
      "source": [
        "14. Can you name four of the main challenges in Machine Learning?"
      ],
      "metadata": {
        "id": "wkKbPfjODAj-"
      }
    },
    {
      "cell_type": "markdown",
      "source": [
        "Write your answer here"
      ],
      "metadata": {
        "id": "HznUcxBmBuFH"
      }
    }
  ]
}