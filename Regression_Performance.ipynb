{
  "nbformat": 4,
  "nbformat_minor": 0,
  "metadata": {
    "colab": {
      "provenance": [],
      "include_colab_link": true
    },
    "kernelspec": {
      "name": "python3",
      "display_name": "Python 3"
    },
    "language_info": {
      "name": "python"
    }
  },
  "cells": [
    {
      "cell_type": "markdown",
      "metadata": {
        "id": "view-in-github",
        "colab_type": "text"
      },
      "source": [
        "<a href=\"https://colab.research.google.com/github/diskmarster/CalculatorDLL-file-test/blob/master/Regression_Performance.ipynb\" target=\"_parent\"><img src=\"https://colab.research.google.com/assets/colab-badge.svg\" alt=\"Open In Colab\"/></a>"
      ]
    },
    {
      "cell_type": "markdown",
      "source": [
        "# Regression Performance"
      ],
      "metadata": {
        "id": "7EVA_EldNO3Z"
      }
    },
    {
      "cell_type": "markdown",
      "source": [
        "The purpose is to understand the idea behind linear regression and Root Square Mean Error (RSME). The context is limited to one variable, y , depending on the independent variable, x. Variable y is the one to be predicted give at value of x.\n",
        "\n",
        "Given a data list with values for y, and another data list with corresponding values for, x, you are to investigate the performance of linear regression: `y = b*x + a`, as well as polynomial regression: `y = A*x**2 + B*x + C`.\n",
        "\n",
        "You may find this link useful: https://matplotlib.org/3.1.0/tutorials/introductory/pyplot.html\n"
      ],
      "metadata": {
        "id": "ni92ok3w056x"
      }
    },
    {
      "cell_type": "markdown",
      "source": [
        "###Assignment 1: Math behind Root Mean Square Error\n"
      ],
      "metadata": {
        "id": "KruGsD035Yox"
      }
    },
    {
      "cell_type": "markdown",
      "source": [
        "Read the 1.5 pages (p. 43-45) in “Aurélien Géron: Hands-on Machine Learning” Chapter 2 about “Select a Performance measure”.\n",
        "\n",
        "Discuss the formula for calculating RMSE:\n",
        "\n",
        "![RMSE.JPG](data:image/jpeg;base64,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)\n"
      ],
      "metadata": {
        "id": "Zt2GikjH5mSw"
      }
    },
    {
      "cell_type": "markdown",
      "source": [
        "### Assignment 2: Define data and hypothesis function"
      ],
      "metadata": {
        "id": "JaxZCQjUNnmc"
      }
    },
    {
      "cell_type": "markdown",
      "source": [
        "First, `import` libraries `numpy`, `pandas` and `matplotlib.pyplot` and `math` in the first code cell below.\n",
        "\n",
        "In second cell, declare two lists x & y of same length\n",
        "\n",
        "```\n",
        "#Cost per click of individual keywords\n",
        "x = [1.0, 2.1, 2.3, 2.5, 4.1, 4.5, 4.9, 5.9, 8.9]\n",
        "#Total amount of clicks per day\n",
        "y = [48.2, 63.0, 89.0, 71.0, 89.0, 82.2, 70.0, 80.0, 150.0]\n",
        "```\n",
        "\n",
        "In next cell declare the model parameters -values for slope (b) and intersection (a):\n",
        "\n",
        "```\n",
        "b = 12 # try later 8 9 9.8\n",
        "a = 50 # try later 50 40 44.5\n",
        "```\n",
        "\n",
        "In yet another define the hypothesis function, h – That is the function that predicts a value:\n",
        "\n",
        "```\n",
        "def h(x):\n",
        " return b*x + a\n",
        "```\n",
        "\n",
        "Try to call and print `h(2)`"
      ],
      "metadata": {
        "id": "EEMTgwC6p5kW"
      }
    },
    {
      "cell_type": "code",
      "source": [
        "from re import X\n",
        "import numpy\n",
        "import pandas\n",
        "import matplotlib.pyplot as plt\n",
        "import math\n",
        "\n",
        "b = 12 # try later 8 9 9.8\n",
        "a = 50 # try later 50 40 44.5\n",
        "\n",
        "# Cost per click of individual keywords\n",
        "x = [1.0, 2.1, 2.3, 2.5, 4.1, 4.5, 4.9, 5.9, 8.9]\n",
        "# Total amount of clicks per day\n",
        "y = [48.2, 63.0, 89.0, 71.0, 89.0, 82.2, 70.0, 80.0, 150.0]\n",
        "\n",
        "\n",
        "\n",
        "def h(x):\n",
        " return b*x + a\n",
        "\n",
        "print(h(2))\n",
        "\n",
        "\n",
        "\n",
        "plt.axis([0, 10, 0, 200])\n",
        "plt.scatter(x, y)\n",
        "\n",
        "xPlotValues=[0, 10]\n",
        "regression_line = [h(item)for item in xPlotValues]\n",
        "\n",
        "plt.plot([0, 10], regression_line)"
      ],
      "metadata": {
        "id": "F3KwMDegyWBP",
        "outputId": "ddf483a2-2f7a-4bcf-e17e-4b77dea84c05",
        "colab": {
          "base_uri": "https://localhost:8080/",
          "height": 470
        }
      },
      "execution_count": 6,
      "outputs": [
        {
          "output_type": "stream",
          "name": "stdout",
          "text": [
            "74\n"
          ]
        },
        {
          "output_type": "execute_result",
          "data": {
            "text/plain": [
              "[<matplotlib.lines.Line2D at 0x7979de2f6c50>]"
            ]
          },
          "metadata": {},
          "execution_count": 6
        },
        {
          "output_type": "display_data",
          "data": {
            "text/plain": [
              "<Figure size 640x480 with 1 Axes>"
            ],
            "image/png": "[encoded data removed]"
          },
          "metadata": {}
        }
      ]
    },
    {
      "cell_type": "markdown",
      "source": [
        "### Assignment 3: Plot of data and line"
      ],
      "metadata": {
        "id": "b3SLdIGGOnyB"
      }
    },
    {
      "cell_type": "markdown",
      "source": [
        "Use the plot library and plot the diagram and the data points like you have done before.\n",
        "\n",
        "```\n",
        "plt.axis([0, 10, 0, 200])\n",
        "plt.scatter(x, y)\n",
        "```\n",
        "\n",
        "Then, use `plt.title(...)`, `plt.xlabel(...)` and `plt.ylabel(...)` to apply text labels.\n",
        "\n",
        "Use the hypothesis function, h, to plot the regression line:\n",
        "\n",
        "\n",
        "\n",
        "```\n",
        "xPlotValues=[0, 10]\n",
        "regression_line = [h(item)for item in xPlotValues]\n",
        "```\n",
        "\n",
        "and this diplay the plot:\n",
        "\n",
        "`plt.plot([0, 10], regression_line)`\n",
        "\n",
        "\n",
        "Hopefully you see:\n",
        "\n",
        "![Regression performance plot.png](data:image/png;base64,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)\n",
        "\n",
        "Try to change the values of a and b and run the code again.\n",
        "You may visually then find the line with the best fit."
      ],
      "metadata": {
        "id": "jVizmcuhxDmg"
      }
    },
    {
      "cell_type": "markdown",
      "source": [
        "### Assignment 4: Function sum of squares"
      ],
      "metadata": {
        "id": "x1KzbJKLPuaC"
      }
    },
    {
      "cell_type": "markdown",
      "source": [
        "The `Sum_Of_Squares` function below calcalates the Sum-of-Squares given `x, y` and the hypothesis function `hFunc`  \n",
        "\n",
        "```\n",
        "def Sum_Of_Squares(x, y, hFunc):\n",
        "    result = 0\n",
        "    for numX, numY in zip(x,y):\n",
        "        dif = hFunc(numX) - numY  \n",
        "        result = result + dif**2\n",
        "    return result\n",
        "\n",
        "```\n",
        "\n",
        "Copy the definition to a code cell below and add comments (`#....`) to it on what it is doing step by step.\n",
        "\n",
        "Call the function with `x, y` and `h` as parameters - like this:\n",
        "\n",
        "`result = Sum_Of_Squares(x, y, h)`\n",
        "\n",
        "Try to vary model parameters `a` and `b` and observe differences"
      ],
      "metadata": {
        "id": "6B1cWvGlABWz"
      }
    },
    {
      "cell_type": "code",
      "source": [
        "#Changing a and b: When you change the values of a and b, you're essentially changing the shape of the regression line.\n",
        "#This, in turn, affects the predicted values (hFunc(numX)) for each data point.\n",
        "#Since the predicted values are used in calculating the sum of squares, any change in a and b will directly impact the final result.\n",
        "a = 12\n",
        "b = 44\n",
        "\n",
        "def Sum_Of_Squares(x, y, hFunc):\n",
        "    # Initialize a variable called 'result' to store the sum of squares. We start it at 0.\n",
        "    result = 0\n",
        "    # Iterate through each pair of corresponding x and y values from the input lists using 'zip'.\n",
        "    for numX, numY in zip(x, y):\n",
        "        # Calculate the difference between the predicted y value (using the hypothesis function) and the actual y value.\n",
        "        dif = hFunc(numX) - numY\n",
        "        # Square the difference and add it to the 'result'.\n",
        "        result = result + dif**2\n",
        "    # Return the final sum of squares.\n",
        "    return result\n",
        "\n",
        "result = Sum_Of_Squares(x, y, h)\n",
        "\n",
        "print(result)"
      ],
      "metadata": {
        "id": "v7018CShlPAi",
        "outputId": "836a55a5-6436-46bd-e8d8-e12d6d8e0bcc",
        "colab": {
          "base_uri": "https://localhost:8080/"
        }
      },
      "execution_count": 9,
      "outputs": [
        {
          "output_type": "stream",
          "name": "stdout",
          "text": [
            "6549.840000000001\n"
          ]
        }
      ]
    },
    {
      "cell_type": "markdown",
      "source": [
        "### Assigment 5: RMSE function"
      ],
      "metadata": {
        "id": "CdGb8ifaQYh6"
      }
    },
    {
      "cell_type": "markdown",
      "source": [
        "Declare a function for calculating and returning the value of RMSE.\n",
        "You just need to utilize `Sum_Of_Squares`, a square root and division by the number of data points:\n",
        "\n",
        "```\n",
        "def RMSE(x, y, hFunc):  \n",
        "    result=0\n",
        "    MSE = 0\n",
        "    n=len(x)\n",
        "    if n > 0:\n",
        "      MSE= Sum_Of_Squares(x, y, hFunc)/n\n",
        "\n",
        "    return math.sqrt(MSE)\n",
        "```\n",
        "Copy the definition to a code cell below and add comments (#....) to it on what it is doing step by step.\n",
        "\n",
        "Print out the error for different values of a and b.\n"
      ],
      "metadata": {
        "id": "djgMVTRcPzul"
      }
    },
    {
      "cell_type": "code",
      "source": [
        "a = 13\n",
        "b = 22\n",
        "\n",
        "def RMSE(x, y, hFunc):\n",
        "    result=0\n",
        "    MSE = 0\n",
        "    n=len(x)\n",
        "    if n > 0:\n",
        "      MSE= Sum_Of_Squares(x, y, hFunc)/n\n",
        "\n",
        "    return math.sqrt(MSE)\n",
        "\n",
        "print(RMSE(x, y, h))"
      ],
      "metadata": {
        "id": "v4NmH6eVtIC8",
        "outputId": "2fb59721-672e-4e5c-ac9e-8d691cd234f1",
        "colab": {
          "base_uri": "https://localhost:8080/"
        }
      },
      "execution_count": 14,
      "outputs": [
        {
          "output_type": "stream",
          "name": "stdout",
          "text": [
            "36.38442890395103\n"
          ]
        }
      ]
    },
    {
      "cell_type": "markdown",
      "source": [
        "### Assignment 6: Polynomial regression"
      ],
      "metadata": {
        "id": "6XWt3P5UQyPS"
      }
    },
    {
      "cell_type": "markdown",
      "source": [
        "We shall investigate a polynomial regression for the data set.\n",
        "Thus the hypothesis function is:\n",
        "\n",
        "`A*x2 + B*x + C`\n",
        "\n",
        "Instead of\n",
        "\n",
        "`b*x + a`\n",
        "\n",
        "\n",
        "Declare 3 variables `A, B, C` with values `2.0, 1.0, 60.0`\n",
        "\n",
        "Define the hypothetis function `h2(x)` accordingly :\n",
        "\n",
        "```\n",
        "def h2(x):\n",
        " return A*x**2 + B*x + C\n",
        "```\n",
        "\n",
        "Run!\n",
        "Can you find some values giving a lower RMSE than the linear regression ?"
      ],
      "metadata": {
        "id": "rGAUD2L35rbn"
      }
    },
    {
      "cell_type": "code",
      "source": [
        "A = 22\n",
        "B = 11\n",
        "C = 60\n",
        "\n",
        "\n",
        "def h2(x):\n",
        " return A*x**2 + B*x + C\n",
        "\n",
        "print(RMSE(x, y, h2))"
      ],
      "metadata": {
        "id": "U8et739Xt7mW",
        "outputId": "b6bb1eb4-5106-4fd2-d869-12b99bcaf0e5",
        "colab": {
          "base_uri": "https://localhost:8080/"
        }
      },
      "execution_count": 16,
      "outputs": [
        {
          "output_type": "stream",
          "name": "stdout",
          "text": [
            "46.290783339907115\n"
          ]
        }
      ]
    },
    {
      "cell_type": "markdown",
      "source": [
        "### Assignment 7: Plot of data and polynomial curve"
      ],
      "metadata": {
        "id": "Nf-kP8IoRskl"
      }
    },
    {
      "cell_type": "markdown",
      "source": [
        "Try to run an adapted version of the plotting solution in Assignment 3, that plots the polynomial hypothesis function `h2` instead of the linear one `h`\n",
        "\n",
        "Hint: `xPlotValues=[0,1,2,3,4,5,6,7,8,9,10]`"
      ],
      "metadata": {
        "id": "RWhCr5tHSVPs"
      }
    },
    {
      "cell_type": "code",
      "source": [
        "from re import X\n",
        "import numpy\n",
        "import pandas\n",
        "import matplotlib.pyplot as plt\n",
        "import math\n",
        "\n",
        "b = 12 # try later 8 9 9.8\n",
        "a = 50 # try later 50 40 44.5\n",
        "\n",
        "# Cost per click of individual keywords\n",
        "x = [1.0, 2.1, 2.3, 2.5, 4.1, 4.5, 4.9, 5.9, 8.9]\n",
        "# Total amount of clicks per day\n",
        "y = [48.2, 63.0, 89.0, 71.0, 89.0, 82.2, 70.0, 80.0, 150.0]\n",
        "\n",
        "\n",
        "\n",
        "def h2(x, A, B, C):\n",
        "  return A*x**2 + B*x + C\n",
        "\n",
        "\n",
        "A = 1\n",
        "B = 5\n",
        "C = 30\n",
        "\n",
        "plt.axis([0, 10, 0, 200])\n",
        "plt.scatter(x, y)\n",
        "\n",
        "xPlotValues=[0,1,2,3,4,5,6,7,8,9,10]\n",
        "regression_line = [h2(item, A, B, C) for item in xPlotValues]\n",
        "\n",
        "plt.plot([0,1,2,3,4,5,6,7,8,9,10], regression_line)"
      ],
      "metadata": {
        "id": "jz6YqTTHuyj8",
        "outputId": "5e7c2dbb-0128-48ac-9551-13390bc4f60b",
        "colab": {
          "base_uri": "https://localhost:8080/",
          "height": 452
        }
      },
      "execution_count": 24,
      "outputs": [
        {
          "output_type": "execute_result",
          "data": {
            "text/plain": [
              "[<matplotlib.lines.Line2D at 0x7979b47cf390>]"
            ]
          },
          "metadata": {},
          "execution_count": 24
        },
        {
          "output_type": "display_data",
          "data": {
            "text/plain": [
              "<Figure size 640x480 with 1 Axes>"
            ],
            "image/png": "[encoded data removed]"
          },
          "metadata": {}
        }
      ]
    },
    {
      "cell_type": "markdown",
      "source": [
        "### Assignment 7: Discussion in the class\n",
        "So what is best linear or polynomial regression ?\n",
        "Can we conclude?"
      ],
      "metadata": {
        "id": "_oy35cwem4-E"
      }
    },
    {
      "cell_type": "markdown",
      "source": [
        "Visual Assessment: From your plot in Assignment 3, you should visually assess how well the linear regression line fits the data points. If the data points seem to follow a straight line fairly closely, then linear regression might be a good fit. If the points show a clear curve or non-linear pattern, then polynomial regression might be a better choice.\n",
        "\n",
        "RMSE Calculation: In Assignment 6, you calculated the Root Mean Squared Error (RMSE) for both linear and polynomial regression models. The model with the lower RMSE value is generally considered to be the better fit, as it has less error in its predictions. Compare the RMSE values you obtained and see which model performed better.\n",
        "\n",
        "Data Complexity: Linear regression is a simpler model, and it's often a good starting point. However, it might not capture complex relationships in the data. Polynomial regression can fit more complex patterns, but it can also be prone to overfitting if the degree of the polynomial is too high. Overfitting means the model performs well on the training data but poorly on unseen data. You need to find the balance depending on your dataset.\n",
        "\n",
        "Domain Knowledge: Consider any prior knowledge or assumptions you have about the relationship between the variables. If you expect a linear relationship based on the underlying phenomenon, then linear regression might be more appropriate. If you know the relationship is non-linear, then polynomial regression would be the better choice.\n",
        "\n",
        "Conclusion:\n",
        "\n",
        "Based on the above reasoning, you can form a conclusion about which model is better for your specific data. For example, you could say:\n",
        "\n",
        "\"Based on the visual assessment of the plot and the calculated RMSE values, it appears that polynomial regression provides a better fit for this data compared to linear regression. The data points show a slight curve, and the polynomial model has a lower RMSE value, indicating better predictive accuracy.\"\n",
        "\n",
        "Important Note: It's crucial to remember that there's no one-size-fits-all answer to this question. The best model depends on the specific data and the context of the problem. It's always a good idea to experiment with different models and compare their performance to determine the most appropriate choice.\n",
        "\n",
        "Further Steps:\n",
        "\n",
        "To reach a more conclusive answer, you would need to perform the following steps:\n",
        "\n",
        "Parameter Optimization: Instead of using random values for A, B, C, a, and b, you should employ optimization techniques to find the best values that minimize the error for each model. This could involve using methods like gradient descent or least squares fitting.\n",
        "\n",
        "Model Selection: After optimizing the parameters, compare the performance of linear and polynomial regression models using metrics like RMSE, R-squared, and others. This would provide a more objective evaluation of their relative performance.\n",
        "\n",
        "Cross-Validation: Apply cross-validation techniques to assess the models' generalization ability and ensure they are not overfitting to the training data.\n",
        "\n",
        "Regularization: Consider using regularization methods to prevent overfitting, especially in the case of polynomial regression with higher degrees.\n",
        "\n",
        "By following these steps, you can systematically analyze the data and reach a more robust conclusion about which model is better for your specific dataset."
      ],
      "metadata": {
        "id": "gt1JMYwux4b6"
      }
    }
  ]
}