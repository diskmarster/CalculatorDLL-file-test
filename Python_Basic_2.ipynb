{
  "nbformat": 4,
  "nbformat_minor": 0,
  "metadata": {
    "colab": {
      "provenance": [],
      "include_colab_link": true
    },
    "kernelspec": {
      "name": "python3",
      "display_name": "Python 3"
    },
    "language_info": {
      "name": "python"
    }
  },
  "cells": [
    {
      "cell_type": "markdown",
      "metadata": {
        "id": "view-in-github",
        "colab_type": "text"
      },
      "source": [
        "<a href=\"https://colab.research.google.com/github/diskmarster/CalculatorDLL-file-test/blob/master/Python_Basic_2.ipynb\" target=\"_parent\"><img src=\"https://colab.research.google.com/assets/colab-badge.svg\" alt=\"Open In Colab\"/></a>"
      ]
    },
    {
      "cell_type": "markdown",
      "source": [
        "# Python Basics No.2"
      ],
      "metadata": {
        "id": "bYTAUEE1rsMo"
      }
    },
    {
      "cell_type": "markdown",
      "source": [
        "This is a crash course in basic Python. The goal is you will be able to utilize 2-dimensional lists, random numbers and understand the code used in the course. Together we are going to do a Python program, with some simple code. In order to keep a good speed no GUI no structure of program. Just coding.\n",
        "\n",
        "Useful links:\n",
        "\n",
        "https://www.w3schools.com/Python/default.asp\n",
        "\n",
        "https://docs.python.org/3/library/random.html\n",
        "\n",
        "https://www.tutorialspoint.com/python_data_structure/python_2darray.htm\n",
        "\n",
        "https://stackoverflow.com/questions/6142689/initialising-an-array-of-fixed-size-in-python\n"
      ],
      "metadata": {
        "id": "Xhoo0AWhrxym"
      }
    },
    {
      "cell_type": "markdown",
      "source": [
        "Assignment 1: Application program two different lists"
      ],
      "metadata": {
        "id": "tmooyfSNY3Bs"
      }
    },
    {
      "cell_type": "markdown",
      "source": [
        "Declare two different lists:\n",
        "\n",
        "```\n",
        "color = [\"red\", \"big\", \"tasty\"]\n",
        "fruits = [\"apple\", \"banana\", \"cherry\"]\n",
        "```\n",
        "\n",
        "Now for each item in color print out each item in fruits with the respective color, so the output looks similar to:\n",
        "\n",
        "```\n",
        "red apple\n",
        "red banana\n",
        "red cherry\n",
        "big apple\n",
        "big banana\n",
        "big cherry\n",
        "tasty apple\n",
        "tasty banana\n",
        "tasty cherry\n",
        "```\n",
        "Tip: Nested loops!"
      ],
      "metadata": {
        "id": "giMW4peYZG9E"
      }
    },
    {
      "cell_type": "code",
      "source": [
        "color = [\"red\", \"big\", \"tasty\"]\n",
        "fruits = [\"apple\", \"banana\", \"cherry\"]\n",
        "\n",
        "for x in color:\n",
        "  for y in fruits:\n",
        "    print(x, y)"
      ],
      "metadata": {
        "id": "-4dS-Af5Z4jV",
        "outputId": "8c2dc0c7-baef-4807-bf8e-9064686d017a",
        "colab": {
          "base_uri": "https://localhost:8080/"
        }
      },
      "execution_count": 2,
      "outputs": [
        {
          "output_type": "stream",
          "name": "stdout",
          "text": [
            "red apple\n",
            "red banana\n",
            "red cherry\n",
            "big apple\n",
            "big banana\n",
            "big cherry\n",
            "tasty apple\n",
            "tasty banana\n",
            "tasty cherry\n"
          ]
        }
      ]
    },
    {
      "cell_type": "code",
      "source": [
        "\n"
      ],
      "metadata": {
        "id": "oebV-jtPaRF0"
      },
      "execution_count": null,
      "outputs": []
    },
    {
      "cell_type": "markdown",
      "source": [
        "### Assignment 2: Application program 2-dim arrays (list) of numbers"
      ],
      "metadata": {
        "id": "o7-uHTsofar1"
      }
    },
    {
      "cell_type": "markdown",
      "source": [
        "Lists with sub-lists are actually the Python version of 2-dim arrays.\n",
        "Declare a list with four sub-lists:\n",
        "\n",
        "```\n",
        "T = [[11, 12, 5, 2], [15, 6, 10], [10, 8, 12, 5], [12,15,8,6]]\n",
        "print(T)\n",
        "```\n",
        "\n",
        "Try:\n",
        "\n",
        "```\n",
        "T[1][2] = 99\n",
        "```\n",
        "\n",
        "Which element is changed to the value 99? Print out and see if you were right?\n",
        "Add a nested for-loop so for each sub-list, slist, in T print each element, elem, in sub-list.\n"
      ],
      "metadata": {
        "id": "7fpeFWPIdWw8"
      }
    },
    {
      "cell_type": "code",
      "source": [
        "T = [1, 2]\n",
        "T[1] = 99\n",
        "print(T)"
      ],
      "metadata": {
        "id": "WBUUlq-kd-zd",
        "outputId": "534c13d3-fd9d-44a0-b3cf-55a88946e01b",
        "colab": {
          "base_uri": "https://localhost:8080/"
        }
      },
      "execution_count": 5,
      "outputs": [
        {
          "output_type": "stream",
          "name": "stdout",
          "text": [
            "[1, 99]\n"
          ]
        }
      ]
    },
    {
      "cell_type": "code",
      "source": [
        "T = [[11, 12, 5, 2], [15, 6, 5], [10, 8, 12, 5], [12,15,8,6]]\n",
        "T[1][2] = 99\n",
        "\n",
        "for slist in T:\n",
        "    for elem in slist:\n",
        "        print(elem)"
      ],
      "metadata": {
        "id": "qN48-CJMeiw9",
        "outputId": "e2b28783-f396-458a-9e5c-1cb7a32b1895",
        "colab": {
          "base_uri": "https://localhost:8080/"
        }
      },
      "execution_count": 10,
      "outputs": [
        {
          "output_type": "stream",
          "name": "stdout",
          "text": [
            "11\n",
            "12\n",
            "5\n",
            "2\n",
            "15\n",
            "6\n",
            "99\n",
            "10\n",
            "8\n",
            "12\n",
            "5\n",
            "12\n",
            "15\n",
            "8\n",
            "6\n"
          ]
        }
      ]
    },
    {
      "cell_type": "markdown",
      "source": [
        "### Assignment 3: Random numbers"
      ],
      "metadata": {
        "id": "bBFFDuLKhCdN"
      }
    },
    {
      "cell_type": "markdown",
      "source": [
        "You are to do a program, which can initialize an integer list holding 10 elements of random numbers in the interval `[0,100]` using the module random.\n",
        "Your program must resemble the following template:\n",
        "\n",
        "```\n",
        "import random\n",
        "\n",
        "data = [] # create an empty list\n",
        "while len(data) < 10:\n",
        " randNo= random.randint(0,100)\n",
        " data.append(randNo)\n",
        "print(data)\n",
        "```\n",
        "\n",
        "\n"
      ],
      "metadata": {
        "id": "7BxH3U06hV01"
      }
    },
    {
      "cell_type": "code",
      "source": [
        "import random\n",
        "\n",
        "data = [] # create an empty list\n",
        "while len(data) < 10:\n",
        " randNo= random.randint(0,100)\n",
        " data.append(randNo)\n",
        "print(data)"
      ],
      "metadata": {
        "id": "HZRoVtiQh9hF",
        "outputId": "3600d96e-2867-4ad9-a0fa-951b5afcd60e",
        "colab": {
          "base_uri": "https://localhost:8080/"
        }
      },
      "execution_count": 11,
      "outputs": [
        {
          "output_type": "stream",
          "name": "stdout",
          "text": [
            "[52, 52, 64, 59, 100, 61, 96, 18, 84, 57]\n"
          ]
        }
      ]
    },
    {
      "cell_type": "markdown",
      "source": [
        "Assignment 4: Random function"
      ],
      "metadata": {
        "id": "7hk7ejFgiIEV"
      }
    },
    {
      "cell_type": "markdown",
      "source": [
        "Create your own random method, which returns a list of random numbers.\n",
        "\n",
        "```\n",
        "def rand_func():\n",
        ". . . . . . .\n",
        "```\n",
        "\n"
      ],
      "metadata": {
        "id": "j1ZlqtJ_iUb8"
      }
    },
    {
      "cell_type": "code",
      "source": [
        "import random\n",
        "\n",
        "def rand_funct():\n",
        "  data = []\n",
        "  data2 = []\n",
        "  while len(data) < 7:\n",
        "    randNo= random.randint(0,100)\n",
        "    data.append(randNo)\n",
        "  if len(data) == 7:\n",
        "    while len(data2) < 10:\n",
        "      randNo2= random.randint(0,100)\n",
        "      data2.append(randNo2)\n",
        "  print(data)\n",
        "  print(data2)\n",
        "\n",
        "rand_funct()"
      ],
      "metadata": {
        "id": "20M5nFniijqN",
        "outputId": "62a80b0d-693f-4d89-d0e9-698eb09d2809",
        "colab": {
          "base_uri": "https://localhost:8080/"
        }
      },
      "execution_count": 19,
      "outputs": [
        {
          "output_type": "stream",
          "name": "stdout",
          "text": [
            "[40, 84, 4, 65, 70, 66, 41]\n",
            "[26, 58, 48, 10, 60, 91, 43, 11, 53, 69]\n"
          ]
        }
      ]
    },
    {
      "cell_type": "code",
      "source": [
        "\n"
      ],
      "metadata": {
        "id": "I6iCmFqqjUL9"
      },
      "execution_count": null,
      "outputs": []
    },
    {
      "cell_type": "markdown",
      "source": [
        "### Extra assignment: For the fast ones only\n"
      ],
      "metadata": {
        "id": "xvM-k11RkKSk"
      }
    },
    {
      "cell_type": "markdown",
      "source": [
        "Look at your `rand_func` method from the assignment.\n",
        "Introduce parameters defining the size of the list and the maximum integer number to be generated?"
      ],
      "metadata": {
        "id": "itwBoxbhkklV"
      }
    },
    {
      "cell_type": "code",
      "source": [
        "import random\n",
        "\n",
        "def rand_func(size, max_num):\n",
        "  data = []\n",
        "  while len(data) < size:\n",
        "    randNo = random.randint(0, max_num)\n",
        "    data.append(randNo)\n",
        "  return data\n",
        "\n",
        "list1 = rand_func(7, 100)\n",
        "list2 = rand_func(10, 50)\n",
        "\n",
        "print(list1)\n",
        "print(list2)"
      ],
      "metadata": {
        "id": "O3b3H51Akt0k",
        "outputId": "5c1868c6-9b40-40ab-e9e0-c43f78ea082f",
        "colab": {
          "base_uri": "https://localhost:8080/"
        }
      },
      "execution_count": 20,
      "outputs": [
        {
          "output_type": "stream",
          "name": "stdout",
          "text": [
            "[65, 0, 64, 94, 48, 39, 83]\n",
            "[4, 3, 43, 45, 5, 19, 10, 11, 7, 36]\n"
          ]
        }
      ]
    },
    {
      "cell_type": "code",
      "source": [],
      "metadata": {
        "id": "chTKcGoallmV"
      },
      "execution_count": null,
      "outputs": []
    },
    {
      "cell_type": "markdown",
      "source": [
        "Assignment X: Extra reward only for fast ones!"
      ],
      "metadata": {
        "id": "d2a1SkhEmM1W"
      }
    },
    {
      "cell_type": "markdown",
      "source": [
        "Here we want to calculate some numbers called Fibonacci numbers and save them in a list. The numbers are defined as:\n",
        "\n",
        "```\n",
        "i y[i]\n",
        "0 0\n",
        "1 1\n",
        "2 1 = 1+0\n",
        "3 2 = 1+1\n",
        "4 3 = 1+2\n",
        "5 5 = 3+2\n",
        "6 8 = 5+3\n",
        "7 13= 8+5\n",
        "```\n",
        "\n",
        "As you can see a Fibonacci number from a certain point is the sum of the two previous numbers. Do a loop so the respective elements in y is assigned the sum of the two previous elements.!!"
      ],
      "metadata": {
        "id": "FRZlxs3LmcrW"
      }
    },
    {
      "cell_type": "code",
      "source": [
        "def calculate_fibonacci(n):\n",
        "  y = [0, 1]\n",
        "  for i in range(2, n):\n",
        "    y.append(y[i-1] + y[i-2])\n",
        "  return y\n",
        "\n",
        "y = calculate_fibonacci(10)\n",
        "print(y)"
      ],
      "metadata": {
        "id": "1FgOt708nDp-",
        "outputId": "845dccaa-9dc0-47c2-8438-216645d2ca46",
        "colab": {
          "base_uri": "https://localhost:8080/"
        }
      },
      "execution_count": 21,
      "outputs": [
        {
          "output_type": "stream",
          "name": "stdout",
          "text": [
            "[0, 1, 1, 2, 3, 5, 8, 13, 21, 34]\n"
          ]
        }
      ]
    },
    {
      "cell_type": "code",
      "source": [],
      "metadata": {
        "id": "ti8Qgt2Xoheu"
      },
      "execution_count": null,
      "outputs": []
    }
  ]
}