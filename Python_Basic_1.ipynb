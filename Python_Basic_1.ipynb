{
  "nbformat": 4,
  "nbformat_minor": 0,
  "metadata": {
    "colab": {
      "provenance": [],
      "include_colab_link": true
    },
    "kernelspec": {
      "name": "python3",
      "display_name": "Python 3"
    },
    "language_info": {
      "name": "python"
    }
  },
  "cells": [
    {
      "cell_type": "markdown",
      "metadata": {
        "id": "view-in-github",
        "colab_type": "text"
      },
      "source": [
        "<a href=\"https://colab.research.google.com/github/diskmarster/CalculatorDLL-file-test/blob/master/Python_Basic_1.ipynb\" target=\"_parent\"><img src=\"https://colab.research.google.com/assets/colab-badge.svg\" alt=\"Open In Colab\"/></a>"
      ]
    },
    {
      "cell_type": "markdown",
      "source": [
        "# Python Basic No. 1"
      ],
      "metadata": {
        "id": "yH1uLJ2cLQOq"
      }
    },
    {
      "cell_type": "markdown",
      "source": [
        "This is a crash course in basic Python. The goal is you will be able to read and understand the code used in the course. Together we are going to do a Python program with some simple code. In order to keep a good speed no GUI no structure of program. Just coding:\n",
        "*   Simple declarations\n",
        "*   Initialising & changing values\n",
        "*   Printing\n",
        "*   Maximum, minimum, sum and average of the elements in an integer array\n",
        "\n",
        "\n",
        "Useful links:\n",
        "\n",
        "https://www.w3schools.com/Python/default.asp\n",
        "\n",
        "https://docs.python.org/3/library/random.html\n",
        "\n",
        "https://www.tutorialspoint.com/python_data_structure/python_2darray.htm\n",
        "\n",
        "https://stackoverflow.com/questions/6142689/initialising-an-array-of-fixed-size-in-python"
      ],
      "metadata": {
        "id": "JyhUATVmJdy4"
      }
    },
    {
      "cell_type": "markdown",
      "source": [
        "### Assignment 1: Application program, declaration"
      ],
      "metadata": {
        "id": "GA3AwRECkMky"
      }
    },
    {
      "cell_type": "markdown",
      "source": [
        "Enter the following piece of code in the cell below:\n",
        "\n",
        "```\n",
        "int x = 1\n",
        "y = 3\n",
        "z = 5\n",
        "sum = x+y+z\n",
        "Print(sum)\n",
        "```\n",
        "\n",
        "Run the cell by clicking the arrow.\n",
        "\n",
        "Note: Fix case error and type declaration error.\n",
        "\n",
        "What did you learn?\n"
      ],
      "metadata": {
        "id": "7oppwZv0j7qS"
      }
    },
    {
      "cell_type": "code",
      "execution_count": null,
      "metadata": {
        "id": "G2rJDqH_grOg"
      },
      "outputs": [],
      "source": []
    },
    {
      "cell_type": "markdown",
      "source": [
        "Now print out the result with a text by calling `print`:\n",
        "\n",
        "```\n",
        "print(\"Sum is: \" + sum)\n",
        "print(\"Sum is: \" + str(sum) + \" DKK\")\n",
        "#Finally use the f-strings\n",
        "print(f\"Sum is: + {sum} + DKK\")\n",
        "```\n",
        "\n",
        "Unfortunately there are errors. Correct the errors.\n"
      ],
      "metadata": {
        "id": "cc-w9JWOm8qR"
      }
    },
    {
      "cell_type": "code",
      "source": [],
      "metadata": {
        "id": "KdO2DOVjneeg"
      },
      "execution_count": null,
      "outputs": []
    },
    {
      "cell_type": "markdown",
      "source": [
        "### Assignment 2: Application program, loops"
      ],
      "metadata": {
        "id": "u4jM536upAvK"
      }
    },
    {
      "cell_type": "markdown",
      "source": [
        "For-loops in Python are actually for-each loops.\n",
        "Try to print out a list of squares:\n",
        "\n",
        "```\n",
        "for i in range(1, 10):\n",
        "    print(i,i*i)\n",
        "print()\n",
        "```\n",
        "\n",
        "Indent both `print()` statements. What happens? Explain.\n",
        "\n",
        "Undo the last indentation.\n",
        "\n",
        "Change the `print(i,i*i)` statement to `print(i,i*i, end = \" \")`\n",
        "\n"
      ],
      "metadata": {
        "id": "zWLtBjsgpD7x"
      }
    },
    {
      "cell_type": "code",
      "source": [],
      "metadata": {
        "id": "o5hugu79pZh6"
      },
      "execution_count": null,
      "outputs": []
    },
    {
      "cell_type": "markdown",
      "source": [
        "### Assignment 3: Application program, nested for loops"
      ],
      "metadata": {
        "id": "Gleqy1tDrxEO"
      }
    },
    {
      "cell_type": "markdown",
      "source": [
        "A multiplication table (10*10) looks like this:\n",
        "\n",
        "```\n",
        " 1  2  3  4  5  6   7  8  9 10\n",
        " 2  4  6  8 10 12  14 16 18 20\n",
        " 3  6  9 12  .  .\n",
        " 4  8 12  .  .  .\n",
        " 5 10  .  .  .  .\n",
        " 6 12\n",
        " 7 14\n",
        " 8 16\n",
        " 9 18\n",
        "10 20\n",
        "```\n",
        "Now you have to print out the numbers in the table using nested loops; i.e. a for-loop inside another for-loop. The formatting (a real table format) does not matter; it is the loops and content we focus on.\n",
        "Tip: `print(i*j, end = “ “)`\n"
      ],
      "metadata": {
        "id": "S0SyyKSXtFRT"
      }
    },
    {
      "cell_type": "code",
      "source": [],
      "metadata": {
        "id": "40VIq7SjuyIM"
      },
      "execution_count": null,
      "outputs": []
    },
    {
      "cell_type": "markdown",
      "source": [
        "### Assignment 4: Application program, while-loops"
      ],
      "metadata": {
        "id": "8LszHARf1R8z"
      }
    },
    {
      "cell_type": "markdown",
      "source": [
        "Try to print out a list of squares using a while-loop:\n",
        "\n",
        "```\n",
        "i = 1\n",
        "while (i<=10):\n",
        "    ........\n",
        "```\n",
        "\n",
        "Write the rest of the code lines yourself in the cell below:"
      ],
      "metadata": {
        "id": "sSTzLmBV1fr9"
      }
    },
    {
      "cell_type": "code",
      "source": [
        "i = 1\n",
        "squares = []  # Create an empty list to store the squares\n",
        "while i <= 10:\n",
        "    squares.append(i ** 2)  # Add the square of i to the list\n",
        "    i += 1  # Increment i by 1\n",
        "\n",
        "print(squares)  # Print the list of squares\n"
      ],
      "metadata": {
        "id": "epvbkXT01z1z",
        "colab": {
          "base_uri": "https://localhost:8080/"
        },
        "outputId": "fd27c68d-97db-4e5e-c01a-389b983e3c08"
      },
      "execution_count": 12,
      "outputs": [
        {
          "output_type": "stream",
          "name": "stdout",
          "text": [
            "[1, 4, 9, 16, 25, 36, 49, 64, 81, 100]\n"
          ]
        }
      ]
    },
    {
      "cell_type": "markdown",
      "source": [
        "### Assignment 5: Application program, if-else"
      ],
      "metadata": {
        "id": "jcL-sfO22N6k"
      }
    },
    {
      "cell_type": "markdown",
      "source": [
        "Try to print out the maximum of two numbers: `x` and `y`\n",
        "\n",
        "```\n",
        "x = 7\n",
        "y = 23\n",
        "if (x > y):\n",
        "    print(\"x: \"+ str(x))\n",
        "else:\n",
        "    print(\"y: \"+ str(y))\n",
        "```\n",
        "\n",
        "Run in the cell below"
      ],
      "metadata": {
        "id": "x0fiUy3I2VHl"
      }
    },
    {
      "cell_type": "code",
      "source": [],
      "metadata": {
        "id": "NfdUi5s53Sh1"
      },
      "execution_count": null,
      "outputs": []
    },
    {
      "cell_type": "markdown",
      "source": [
        "### Assignment 6: Method maximum of two numbers"
      ],
      "metadata": {
        "id": "K0OpEGLU3whu"
      }
    },
    {
      "cell_type": "markdown",
      "source": [
        "Extend with a new method `findMax(x,y)`, which returns the maximum of the parameters\n",
        "\n",
        "```\n",
        "def findMax(x,y):\n",
        "    if (x > y):\n",
        "        . . . . . .\n",
        "```\n",
        "Call the method and print out the maximum value.\n",
        "Tip: Be inspired by assignment 5 but remember return !"
      ],
      "metadata": {
        "id": "hU9Rc5JP326U"
      }
    },
    {
      "cell_type": "code",
      "source": [],
      "metadata": {
        "id": "pT_CY9co4ln3"
      },
      "execution_count": null,
      "outputs": []
    },
    {
      "cell_type": "code",
      "source": [],
      "metadata": {
        "id": "TVjiJ9ZX5ORt"
      },
      "execution_count": null,
      "outputs": []
    },
    {
      "cell_type": "markdown",
      "source": [
        "Assignment 7: Application program 1-dim array (list) of numbers"
      ],
      "metadata": {
        "id": "nmg7gcR95rx1"
      }
    },
    {
      "cell_type": "markdown",
      "source": [
        "Lists are actually the Python version of 1-dim arrays.\n",
        "Declare a list with the primes:\n",
        "\n",
        "```\n",
        "data = [1,2,3,5,7,11,13,17,19,23]\n",
        "print(data)\n",
        "for item in data:\n",
        "    print(item, end = \" \")\n",
        "```\n",
        "\n",
        "Run in the cell below. Explain the output."
      ],
      "metadata": {
        "id": "02iG39DQ50ao"
      }
    },
    {
      "cell_type": "code",
      "source": [],
      "metadata": {
        "id": "8w29argF7DtG"
      },
      "execution_count": null,
      "outputs": []
    },
    {
      "cell_type": "markdown",
      "source": [
        "Add some more lines:\n",
        "\n",
        "```\n",
        "print(data[3])\n",
        "data[0] = 17\n",
        "data.append(37)\n",
        "print(data)\n",
        "```\n",
        "Run in the cell below. What do you expect to see?"
      ],
      "metadata": {
        "id": "-Oj0FY217fU8"
      }
    },
    {
      "cell_type": "markdown",
      "source": [],
      "metadata": {
        "id": "XzOLzttD7AIs"
      }
    },
    {
      "cell_type": "code",
      "source": [],
      "metadata": {
        "id": "nGVlHK8B77Pt"
      },
      "execution_count": null,
      "outputs": []
    },
    {
      "cell_type": "markdown",
      "source": [
        "Add more lines:\n",
        "\n",
        "```\n",
        "data.insert(4,99)\n",
        "print(data)\n",
        "```\n",
        "\n",
        "Run it in the cell below. What do you expect to see now?\n",
        "What did you learn? Difference between append and insert."
      ],
      "metadata": {
        "id": "mKMj-whU8JUb"
      }
    },
    {
      "cell_type": "code",
      "source": [],
      "metadata": {
        "id": "IAf_FFGN8hjU"
      },
      "execution_count": null,
      "outputs": []
    },
    {
      "cell_type": "markdown",
      "source": [
        "### Assignment 8: Method maximum"
      ],
      "metadata": {
        "id": "E2eM0QqE9Jvv"
      }
    },
    {
      "cell_type": "markdown",
      "source": [
        "Extend with a new method find_max(data), which returns the maximum of the numbers in the list data.\n",
        "\n",
        "\n",
        "```\n",
        "def find_max(data):\n",
        "    my_max_ = max(data)\n",
        "    return my_max\n",
        "```\n",
        "\n",
        "Call find_max with data as parameter:\n",
        "\n",
        "```\n",
        "max_num = find_max(data)\n",
        "```\n",
        "\n",
        "and print out the maximum number."
      ],
      "metadata": {
        "id": "lipw4y6s9aDb"
      }
    },
    {
      "cell_type": "code",
      "source": [
        "data = [17, 2, 3, 5, 99, 7, 11, 13, 17, 19, 23, 37]\n",
        "\n",
        "\n",
        "def find_max(data):\n",
        "    my_max = max(data)  # Find the maximum value in the list\n",
        "    return my_max\n",
        "\n",
        "\n",
        "max_num = find_max(data)\n",
        "print(\"The maximum number is:\", max_num)"
      ],
      "metadata": {
        "id": "YM89xi96-T1t",
        "colab": {
          "base_uri": "https://localhost:8080/"
        },
        "outputId": "a2a4a849-06b4-495d-c09a-e5d9778b48ee"
      },
      "execution_count": 2,
      "outputs": [
        {
          "output_type": "stream",
          "name": "stdout",
          "text": [
            "The maximum number is: 99\n"
          ]
        }
      ]
    },
    {
      "cell_type": "code",
      "source": [],
      "metadata": {
        "id": "Y4Qj4fRA-HY0"
      },
      "execution_count": null,
      "outputs": []
    },
    {
      "cell_type": "markdown",
      "source": [
        "Assignment 9: Method minimum"
      ],
      "metadata": {
        "id": "qYDzb0fo_vst"
      }
    },
    {
      "cell_type": "markdown",
      "source": [
        "Extend with a new method `find_min(data)`, which returns the minimum value of the numbers in the parameter `data`. Remember to introduce extra printing-sentences for this."
      ],
      "metadata": {
        "id": "b3nSuU6U-AnF"
      }
    },
    {
      "cell_type": "code",
      "source": [
        "data = [17, 2, 3, 5, 99, 7, 11, 13, 17, 19, 23, 37]\n",
        "\n",
        "\n",
        "def find_max_and_min(data):\n",
        "    my_max = max(data)  # Find the maximum value in the list\n",
        "    my_min = min(data)  # Find the minimum value in the list\n",
        "    return my_max, my_min\n",
        "\n",
        "max_num, min_num = find_max_and_min(data)\n",
        "print(\"The maximum number is:\", max_num)\n",
        "print(\"The minimum number is:\", min_num)"
      ],
      "metadata": {
        "id": "WVaG6D8xAMVd",
        "colab": {
          "base_uri": "https://localhost:8080/"
        },
        "outputId": "ac546c87-067d-4f65-d557-66dd7be2632a"
      },
      "execution_count": 6,
      "outputs": [
        {
          "output_type": "stream",
          "name": "stdout",
          "text": [
            "The maximum number is: 99\n",
            "The minimum number is: 2\n"
          ]
        }
      ]
    },
    {
      "cell_type": "code",
      "source": [],
      "metadata": {
        "id": "_iaaVEpNAgBd"
      },
      "execution_count": null,
      "outputs": []
    },
    {
      "cell_type": "markdown",
      "source": [
        "### Assignment 10: Method Sum"
      ],
      "metadata": {
        "id": "U84_5tF_A8h_"
      }
    },
    {
      "cell_type": "markdown",
      "source": [
        "Extend with a new method `find_sum(data)`, which returns the sum value of the numbers in the array parameter `data`."
      ],
      "metadata": {
        "id": "aWT7usjIBDn1"
      }
    },
    {
      "cell_type": "code",
      "source": [
        "data = [17, 2, 3, 5, 99, 7, 11, 13, 17, 19, 23, 37]\n",
        "\n",
        "\n",
        "def find_max_and_min(data):\n",
        "    my_max = max(data)  # Find the maximum value in the list\n",
        "    my_min = min(data)  # Find the minimum value in the list\n",
        "    my_sum = sum(data)  # Finds the sum of the data in the list\n",
        "    return my_max, my_min, my_sum\n",
        "\n",
        "max_num, min_num, max_sum = find_max_and_min(data)\n",
        "print(\"The maximum number is:\", max_num)\n",
        "print(\"The minimum number is:\", min_num)\n",
        "print(\"The sum of the numbers is:\", max_sum)"
      ],
      "metadata": {
        "id": "KjS1soZDBo5G",
        "colab": {
          "base_uri": "https://localhost:8080/"
        },
        "outputId": "2f8d39ac-0258-47ae-eea1-49ad68a33fa6"
      },
      "execution_count": 7,
      "outputs": [
        {
          "output_type": "stream",
          "name": "stdout",
          "text": [
            "The maximum number is: 99\n",
            "The minimum number is: 2\n",
            "The sum of the numbers is: 253\n"
          ]
        }
      ]
    },
    {
      "cell_type": "code",
      "source": [],
      "metadata": {
        "id": "2w85adABCfL9"
      },
      "execution_count": null,
      "outputs": []
    },
    {
      "cell_type": "markdown",
      "source": [
        "### Assignment 11: Average"
      ],
      "metadata": {
        "id": "DopL4h0xDC0M"
      }
    },
    {
      "cell_type": "markdown",
      "source": [
        "Extend with a new method `average(data)`, which returns the average of all numbers in the list. Utilize `find_sum` method from previous assignment."
      ],
      "metadata": {
        "id": "81nYWP4lDLgm"
      }
    },
    {
      "cell_type": "code",
      "source": [
        "data = [17, 2, 3, 5, 99, 7, 11, 13, 17, 19, 23, 37]\n",
        "\n",
        "\n",
        "def find_max_and_min(data):\n",
        "    my_max = max(data)  # Find the maximum value in the list\n",
        "    my_min = min(data)  # Find the minimum value in the list\n",
        "    my_sum = sum(data)  # Finds the sum of the data in the list\n",
        "    my_avg = my_sum / len(data)  # Finds the average of the data in the list\n",
        "    return my_max, my_min, my_sum, my_avg\n",
        "\n",
        "max_num, min_num, max_sum, max_avg = find_max_and_min(data)\n",
        "print(\"The maximum number is:\", max_num)\n",
        "print(\"The minimum number is:\", min_num)\n",
        "print(\"The sum of the numbers is:\", max_sum)\n",
        "print(\"The average of the numbers is:\", max_avg)"
      ],
      "metadata": {
        "id": "r1pty2oBDaD9",
        "colab": {
          "base_uri": "https://localhost:8080/"
        },
        "outputId": "fa8784c4-8888-4a18-80bd-f3d05b9c2d5c"
      },
      "execution_count": 9,
      "outputs": [
        {
          "output_type": "stream",
          "name": "stdout",
          "text": [
            "The maximum number is: 99\n",
            "The minimum number is: 2\n",
            "The sum of the numbers is: 253\n",
            "The average of the numbers is: 21.083333333333332\n"
          ]
        }
      ]
    },
    {
      "cell_type": "code",
      "source": [],
      "metadata": {
        "id": "Pp0kr7yRDxM2"
      },
      "execution_count": null,
      "outputs": []
    },
    {
      "cell_type": "markdown",
      "source": [
        "Assignment X: The 5 highest numbers"
      ],
      "metadata": {
        "id": "9H6HeO1VEMpQ"
      }
    },
    {
      "cell_type": "markdown",
      "source": [
        "How to find the 5 highest numbers in a list. How to return this from a method.\n",
        "Or maybe you can make it flexible so it can be any highest numbers like 6 or 11 etc."
      ],
      "metadata": {
        "id": "EudukSrbEOnG"
      }
    },
    {
      "cell_type": "code",
      "source": [
        "data = [17, 2, 3, 5, 99, 7, 11, 13, 17, 19, 23, 37]\n",
        "\n",
        "def find_highest_numbers(data, num_highest):\n",
        "    data.sort(reverse=True)  # Sort the list in descending order\n",
        "    highest_numbers = data[:num_highest]  # Get the highest numbers\n",
        "    return highest_numbers\n",
        "\n",
        "num_highest = 5\n",
        "highest_numbers = find_highest_numbers(data, num_highest)\n",
        "print(f\"The {num_highest} highest numbers are: {highest_numbers}\")"
      ],
      "metadata": {
        "id": "uw7LiKJuEYkQ",
        "colab": {
          "base_uri": "https://localhost:8080/"
        },
        "outputId": "5d114b28-6099-4538-a5bb-aa234b01f829"
      },
      "execution_count": 11,
      "outputs": [
        {
          "output_type": "stream",
          "name": "stdout",
          "text": [
            "The 5 highest numbers are: [99, 37, 23, 19, 17]\n"
          ]
        }
      ]
    }
  ]
}